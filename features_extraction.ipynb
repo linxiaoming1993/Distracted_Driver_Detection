{
 "cells": [
  {
   "cell_type": "code",
   "execution_count": 1,
   "metadata": {
    "collapsed": true,
    "scrolled": true
   },
   "outputs": [],
   "source": [
    "# 预先将图片处理，生成rec和lst文件，linux shell中执行下述指令\n",
    "# sudo python3 /home/carsmart/mxnet/tools/im2rec.py --list TRUE --recursive TRUE --train-ratio 0.8 --test-ratio 0 /home/carsmart/users/xiaoming/Distracted_Driver_Detection/train_lst/train /home/carsmart/users/xiaoming/Distracted_Driver_Detection/train/\n",
    "# sudo python3 /home/carsmart/mxnet/tools/im2rec.py --pass-through TRUE /home/carsmart/users/xiaoming/Distracted_Driver_Detection/train_lst/train /home/carsmart/users/xiaoming/Distracted_Driver_Detection/train/\n",
    "# labels can read from train_train.lst or train_val.lst\n",
    "# sudo python3 /home/carsmart/mxnet/tools/im2rec.py --list TRUE --recursive TRUE --train-ratio 0 --test-ratio 1 /home/carsmart/users/xiaoming/Distracted_Driver_Detection/test_lst/test /home/carsmart/users/xiaoming/Distracted_Driver_Detection/test/\n",
    "# sudo python3 /home/carsmart/mxnet/tools/im2rec.py --pass-through TRUE /home/carsmart/users/xiaoming/Distracted_Driver_Detection/test_lst/test /home/carsmart/users/xiaoming/Distracted_Driver_Detection/test/"
   ]
  },
  {
   "cell_type": "code",
   "execution_count": 2,
   "metadata": {
    "collapsed": true
   },
   "outputs": [],
   "source": [
    "import mxnet as mx\n",
    "from mxnet import autograd as ag\n",
    "from mxnet import gluon\n",
    "from mxnet import init\n",
    "from mxnet import nd\n",
    "from time import time\n",
    "from mxnet.gluon import nn\n",
    "from mxnet.gluon.model_zoo import vision as models\n",
    "import os\n",
    "import numpy as np\n",
    "\n",
    "import warnings\n",
    "warnings.filterwarnings('ignore')"
   ]
  },
  {
   "cell_type": "markdown",
   "metadata": {},
   "source": [
    "## parameter"
   ]
  },
  {
   "cell_type": "code",
   "execution_count": 3,
   "metadata": {
    "collapsed": true
   },
   "outputs": [],
   "source": [
    "project_path = '/home/carsmart/users/xiaoming/Distracted_Driver_Detection/'\n",
    "path_list = project_path + 'train_lst/train_train.lst'\n",
    "path_rec = project_path + 'train_lst/train_train.rec'\n",
    "val_path_list = project_path + 'train_lst/train_val.lst'\n",
    "val_path_rec = project_path + 'train_lst/train_val.rec'\n",
    "test_path_list = project_path + 'test_lst/test_test.lst'\n",
    "test_path_rec = project_path + 'test_lst/test_test.rec'\n",
    "\n",
    "save_path = project_path + 'features/'\n",
    "\n",
    "(mean_r, mean_g, mean_b) = (0.485 * 255, 0.456 * 255, 0.406 * 255)\n",
    "(std_r, std_g, std_b) = (0.229 * 225, 0.224 * 255, 0.225 * 255)\n",
    "\n",
    "batch_size = 8\n",
    "ctx = [mx.gpu(0)]"
   ]
  },
  {
   "cell_type": "markdown",
   "metadata": {},
   "source": [
    "## iter"
   ]
  },
  {
   "cell_type": "code",
   "execution_count": 4,
   "metadata": {
    "collapsed": true
   },
   "outputs": [],
   "source": [
    "def get_iter(kv, resize, data_shape):\n",
    "    train_iter = mx.io.ImageRecordIter(\n",
    "        path_imglist = path_list, \n",
    "        path_imgrec = path_rec, \n",
    "        resize = resize, \n",
    "        data_shape = data_shape, \n",
    "        batch_size = batch_size, \n",
    "        rand_mirror = False, \n",
    "        rand_crop = False, \n",
    "        mean_r = mean_r, \n",
    "        mean_g = mean_g, \n",
    "        mean_b = mean_b, \n",
    "        std_r = std_r, \n",
    "        std_g = std_g, \n",
    "        std_b = std_b, \n",
    "        num_parts = kv.num_workers, \n",
    "        part_index = kv.rank, \n",
    "        shuffle = False\n",
    "    )\n",
    "    train_iter = mx.io.PrefetchingIter(train_iter)\n",
    "    \n",
    "    val_iter = mx.io.ImageRecordIter(\n",
    "        path_imglist = val_path_list, \n",
    "        path_imgrec = val_path_rec, \n",
    "        resize = resize, \n",
    "        data_shape = data_shape, \n",
    "        batch_size = batch_size, \n",
    "        rand_mirror = False, \n",
    "        rand_crop = False, \n",
    "        mean_r = mean_r, \n",
    "        mean_g = mean_g, \n",
    "        mean_b = mean_b, \n",
    "        std_r = std_r, \n",
    "        std_g = std_g, \n",
    "        std_b = std_b, \n",
    "        num_parts = kv.num_workers, \n",
    "        part_index = kv.rank\n",
    "    )\n",
    "    \n",
    "    test_iter = mx.io.ImageRecordIter(\n",
    "        path_imglist = test_path_list, \n",
    "        path_imgrec = test_path_rec, \n",
    "        resize = resize, \n",
    "        data_shape = data_shape, \n",
    "        batch_size = batch_size, \n",
    "        rand_mirror = False, \n",
    "        rand_crop = False, \n",
    "        mean_r = mean_r, \n",
    "        mean_g = mean_g, \n",
    "        mean_b = mean_b, \n",
    "        std_r = std_r, \n",
    "        std_g = std_g, \n",
    "        std_b = std_b, \n",
    "        num_parts = kv.num_workers, \n",
    "        part_index = kv.rank\n",
    "    )\n",
    "    \n",
    "    return(train_iter, val_iter, test_iter)"
   ]
  },
  {
   "cell_type": "markdown",
   "metadata": {},
   "source": [
    "## export features"
   ]
  },
  {
   "cell_type": "code",
   "execution_count": 5,
   "metadata": {
    "collapsed": true
   },
   "outputs": [],
   "source": [
    "def get_batch(batch, ctx):\n",
    "    \"\"\"return data and label on ctx\"\"\"\n",
    "    if isinstance(batch, mx.io.DataBatch):\n",
    "        data = batch.data[0]\n",
    "        label = batch.label[0]\n",
    "    else:\n",
    "        data, lable = batch\n",
    "    return (gluon.utils.split_and_load(data, ctx), \n",
    "           gluon.utils.split_and_load(label, ctx), \n",
    "           data.shape[0])\n",
    "\n",
    "def save_features(model_name, data_iter, save_path, ignore = True, prefix = 'train'):\n",
    "    # file exist\n",
    "    if os.path.exists(save_path + 'features_%s_%s.nd' % (prefix, model_name)) and ignore:\n",
    "        return\n",
    "\n",
    "    net = models.get_model(name = model_name, pretrained = True, ctx = ctx)\n",
    "    features = []\n",
    "    labels = []\n",
    "    for i, batch in enumerate(data_iter):\n",
    "        real_size = batch_size - batch.pad\n",
    "        data, _, _ = get_batch(batch, ctx)\n",
    "        feature = [net.features(x) for x in data]\n",
    "        if 'squeezenet' in model_name:\n",
    "            feature = [gluon.nn.GlobalAvgPool2D()(x) for x in feature]\n",
    "        feature = [gluon.nn.Flatten()(x) for x in feature]\n",
    "        features.append(nd.concatenate([x.as_in_context(mx.cpu()) for x in feature])[0:real_size, :])\n",
    "        nd.waitall()\n",
    "        \n",
    "    features = nd.concatenate(features)\n",
    "    nd.save(save_path + 'features_%s_%s.nd' % (prefix, model_name), features)"
   ]
  },
  {
   "cell_type": "code",
   "execution_count": 6,
   "metadata": {
    "scrolled": true
   },
   "outputs": [
    {
     "name": "stdout",
     "output_type": "stream",
     "text": [
      "alexnet\n",
      "densenet121\n",
      "densenet161\n",
      "densenet169\n",
      "densenet201\n",
      "inceptionv3\n",
      "resnet101_v1\n",
      "resnet152_v1\n",
      "resnet18_v1\n",
      "resnet18_v2\n",
      "resnet34_v1\n",
      "resnet34_v2\n",
      "resnet50_v1\n",
      "resnet50_v2\n",
      "squeezenet1.0\n",
      "squeezenet1.1\n",
      "vgg11\n",
      "vgg11_bn\n",
      "vgg13\n",
      "vgg13_bn\n",
      "vgg16\n",
      "vgg16_bn\n",
      "vgg19\n",
      "vgg19_bn\n"
     ]
    }
   ],
   "source": [
    "from mxnet.gluon.model_zoo.model_store import _model_sha1\n",
    "\n",
    "kv = mx.kvstore.create(\"local\")\n",
    "for model_name in sorted(_model_sha1.keys()):\n",
    "    print(model_name)\n",
    "    if model_name == 'inceptionv3':\n",
    "        (train_iter_299, val_iter_299, test_iter_299) = get_iter(kv, resize = 299, data_shape = (3, 299, 299))\n",
    "        save_features(model_name, train_iter_299, save_path = save_path, prefix = 'train')\n",
    "        save_features(model_name, val_iter_299, save_path = save_path, prefix = 'val')\n",
    "        save_features(model_name, test_iter_299, save_path = save_path, prefix = 'test')\n",
    "    else:\n",
    "        (train_iter_224, val_iter_224, test_iter_224) = get_iter(kv, resize = 224, data_shape = (3, 224, 224))\n",
    "        save_features(model_name, train_iter_224, save_path = save_path, prefix = 'train')\n",
    "        save_features(model_name, val_iter_224, save_path = save_path, prefix = 'val')\n",
    "        save_features(model_name, test_iter_224, save_path = save_path, prefix = 'test')"
   ]
  },
  {
   "cell_type": "code",
   "execution_count": null,
   "metadata": {
    "collapsed": true
   },
   "outputs": [],
   "source": []
  }
 ],
 "metadata": {
  "kernelspec": {
   "display_name": "Python 3",
   "language": "python",
   "name": "python3"
  },
  "language_info": {
   "codemirror_mode": {
    "name": "ipython",
    "version": 3
   },
   "file_extension": ".py",
   "mimetype": "text/x-python",
   "name": "python",
   "nbconvert_exporter": "python",
   "pygments_lexer": "ipython3",
   "version": "3.5.2"
  }
 },
 "nbformat": 4,
 "nbformat_minor": 2
}
