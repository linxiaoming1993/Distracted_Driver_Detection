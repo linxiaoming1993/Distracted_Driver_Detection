{
 "cells": [
  {
   "cell_type": "code",
   "execution_count": 5,
   "metadata": {
    "collapsed": true
   },
   "outputs": [],
   "source": [
    "import pandas as pd\n",
    "import numpy as np\n",
    "import os\n",
    "import shutil\n",
    "\n",
    "project_path = '/home/carsmart/users/xiaoming/Distracted_Driver_Detection/'\n",
    "person_photos_path = 'driver_imgs_list.csv'"
   ]
  },
  {
   "cell_type": "markdown",
   "metadata": {},
   "source": [
    "## 划分图片\n",
    "将图片按照人分成训练集和验证集，其中20%的人的图片作为验证集"
   ]
  },
  {
   "cell_type": "code",
   "execution_count": 6,
   "metadata": {
    "collapsed": true
   },
   "outputs": [],
   "source": [
    "person_photos = pd.read_csv(project_path + person_photos_path)\n",
    "persons = person_photos['subject'].drop_duplicates()\n",
    "i = 2\n",
    "val_persons = persons[i:(i + len(persons) // 5)]\n",
    "train_persons = persons[0:(i - 1)].append(persons[(i + len(persons) // 5):])\n",
    "\n",
    "val_person_photos = person_photos.iloc[[x in np.array(val_persons) for x in np.array(person_photos['subject'])]]\n",
    "train_person_photos = person_photos.iloc[[x in np.array(train_persons) for x in np.array(person_photos['subject'])]]"
   ]
  },
  {
   "cell_type": "markdown",
   "metadata": {},
   "source": [
    "新建train_val文件夹用于存储训练集和验证集图片"
   ]
  },
  {
   "cell_type": "code",
   "execution_count": 7,
   "metadata": {
    "collapsed": true
   },
   "outputs": [],
   "source": [
    "os.makedirs(project_path + 'train_val/train')\n",
    "os.makedirs(project_path + 'train_val/val')"
   ]
  },
  {
   "cell_type": "markdown",
   "metadata": {},
   "source": [
    "将[train](train)中的复制到[train_val/train](train_val/train)、[train_val/val](train_val/val)中。"
   ]
  },
  {
   "cell_type": "code",
   "execution_count": 8,
   "metadata": {
    "collapsed": true
   },
   "outputs": [],
   "source": [
    "for to_path in ['train_val/val/', 'train_val/train/']:\n",
    "    for x, y in zip(val_person_photos['classname'], val_person_photos['img']):\n",
    "        if not os.path.exists(project_path + to_path + str(x)):\n",
    "            os.makedirs(project_path + to_path + str(x))\n",
    "        shutil.copy2(project_path + 'train/' + str(x) + '/' + str(y), \n",
    "                     project_path + to_path + str(x) + '/' + str(y)\n",
    "                    )"
   ]
  },
  {
   "cell_type": "code",
   "execution_count": null,
   "metadata": {},
   "outputs": [
    {
     "name": "stdout",
     "output_type": "stream",
     "text": [
      "[sudo] password for carsmart: "
     ]
    }
   ],
   "source": [
    "# 将图片处理，生成rec和lst文件，linux shell中执行下述指令\n",
    "# sudo python3 /home/carsmart/mxnet/tools/im2rec.py --list TRUE --recursive TRUE --train-ratio 1 /home/carsmart/users/xiaoming/Distracted_Driver_Detection/train_lst/train2 /home/carsmart/users/xiaoming/Distracted_Driver_Detection/train_val/train/\n",
    "# sudo python3 /home/carsmart/mxnet/tools/im2rec.py --pass-through TRUE /home/carsmart/users/xiaoming/Distracted_Driver_Detection/train_lst/train2 /home/carsmart/users/xiaoming/Distracted_Driver_Detection/train_val/train/\n",
    "# sudo python3 /home/carsmart/mxnet/tools/im2rec.py --list TRUE --recursive TRUE --train-ratio 0 --test-ratio 0 /home/carsmart/users/xiaoming/Distracted_Driver_Detection/train_lst/val2 /home/carsmart/users/xiaoming/Distracted_Driver_Detection/train_val/val/\n",
    "# sudo python3 /home/carsmart/mxnet/tools/im2rec.py --pass-through TRUE /home/carsmart/users/xiaoming/Distracted_Driver_Detection/train_lst/val2 /home/carsmart/users/xiaoming/Distracted_Driver_Detection/train_val/val/\n",
    "# labels can read from train.lst or val_val.lst\n",
    "# sudo python3 /home/carsmart/mxnet/tools/im2rec.py --list TRUE --recursive TRUE --train-ratio 0 --test-ratio 1 /home/carsmart/users/xiaoming/Distracted_Driver_Detection/test_lst/test /home/carsmart/users/xiaoming/Distracted_Driver_Detection/test/\n",
    "# sudo python3 /home/carsmart/mxnet/tools/im2rec.py --pass-through TRUE /home/carsmart/users/xiaoming/Distracted_Driver_Detection/test_lst/test /home/carsmart/users/xiaoming/Distracted_Driver_Detection/test/"
   ]
  },
  {
   "cell_type": "code",
   "execution_count": null,
   "metadata": {
    "collapsed": true
   },
   "outputs": [],
   "source": []
  }
 ],
 "metadata": {
  "kernelspec": {
   "display_name": "Python 3",
   "language": "python",
   "name": "python3"
  },
  "language_info": {
   "codemirror_mode": {
    "name": "ipython",
    "version": 3
   },
   "file_extension": ".py",
   "mimetype": "text/x-python",
   "name": "python",
   "nbconvert_exporter": "python",
   "pygments_lexer": "ipython3",
   "version": "3.5.2"
  }
 },
 "nbformat": 4,
 "nbformat_minor": 2
}
