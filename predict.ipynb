{
 "cells": [
  {
   "cell_type": "code",
   "execution_count": 1,
   "metadata": {
    "collapsed": true
   },
   "outputs": [],
   "source": [
    "import pandas as pd\n",
    "import mxnet as mx\n",
    "from mxnet.gluon import nn\n",
    "from mxnet import ndarray as nd\n",
    "\n",
    "project_path = '/home/carsmart/users/xiaoming/Distracted_Driver_Detection/'\n",
    "features_path = project_path + 'features/'\n",
    "test_path_list = project_path + 'test_lst/test_test.lst'\n",
    "model_save_path = project_path + 'model/'\n",
    "predict_save_path = project_path + 'predict/'\n",
    "ctx = mx.gpu(0)"
   ]
  },
  {
   "cell_type": "markdown",
   "metadata": {},
   "source": [
    "## load test features"
   ]
  },
  {
   "cell_type": "code",
   "execution_count": 2,
   "metadata": {
    "collapsed": true
   },
   "outputs": [],
   "source": [
    "model_names = ['vgg11', 'densenet161', 'squeezenet1.0']\n",
    "features_test = [nd.load(features_path + 'features_test_%s.nd' % model_name)[0] for model_name in model_names]\n",
    "features_test = nd.concat(*features_test, dim = 1)"
   ]
  },
  {
   "cell_type": "markdown",
   "metadata": {},
   "source": [
    "## predict"
   ]
  },
  {
   "cell_type": "code",
   "execution_count": 3,
   "metadata": {
    "collapsed": true
   },
   "outputs": [],
   "source": [
    "def get_net():\n",
    "    net = nn.HybridSequential()\n",
    "    with net.name_scope():\n",
    "        net.add(\n",
    "            nn.Dense(256, activation = 'relu'), \n",
    "            nn.Dropout(0.5), \n",
    "            nn.Dense(10)\n",
    "        )\n",
    "    net.hybridize()\n",
    "    net.initialize(ctx = ctx)\n",
    "    return net\n",
    "\n",
    "net = get_net()\n",
    "net.load_params(model_save_path + '9947.params', ctx = ctx)"
   ]
  },
  {
   "cell_type": "code",
   "execution_count": 5,
   "metadata": {},
   "outputs": [],
   "source": [
    "output = nd.softmax(net(features_test.as_in_context(ctx))).asnumpy()\n",
    "df_pred = pd.read_csv(project_path + 'sample_submission.csv')\n",
    "test_pictures = pd.read_table(test_path_list, header = None)[2]\n",
    "df_pred['img'] = test_pictures\n",
    "for i, j in enumerate(df_pred.columns[1:]):\n",
    "    df_pred[j] = output[:, i]\n",
    "\n",
    "df_pred = df_pred.sort_values('img')\n",
    "df_pred.to_csv(predict_save_path + 'pred.csv', index = None)"
   ]
  },
  {
   "cell_type": "code",
   "execution_count": null,
   "metadata": {
    "collapsed": true
   },
   "outputs": [],
   "source": []
  }
 ],
 "metadata": {
  "kernelspec": {
   "display_name": "Python 3",
   "language": "python",
   "name": "python3"
  },
  "language_info": {
   "codemirror_mode": {
    "name": "ipython",
    "version": 3
   },
   "file_extension": ".py",
   "mimetype": "text/x-python",
   "name": "python",
   "nbconvert_exporter": "python",
   "pygments_lexer": "ipython3",
   "version": "3.5.2"
  }
 },
 "nbformat": 4,
 "nbformat_minor": 2
}
