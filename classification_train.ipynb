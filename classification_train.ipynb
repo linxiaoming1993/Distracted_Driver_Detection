{
 "cells": [
  {
   "cell_type": "code",
   "execution_count": 1,
   "metadata": {},
   "outputs": [
    {
     "name": "stderr",
     "output_type": "stream",
     "text": [
      "/usr/local/lib/python3.5/dist-packages/_pytest/fixtures.py:844: DeprecationWarning: The `convert` argument is deprecated in favor of `converter`.  It will be removed after 2019/01.\n",
      "  params = attr.ib(convert=attr.converters.optional(tuple))\n",
      "/usr/local/lib/python3.5/dist-packages/_pytest/fixtures.py:846: DeprecationWarning: The `convert` argument is deprecated in favor of `converter`.  It will be removed after 2019/01.\n",
      "  ids = attr.ib(default=None, convert=_ensure_immutable_ids)\n"
     ]
    }
   ],
   "source": [
    "import mxnet as mx\n",
    "from mxnet import gluon\n",
    "from mxnet import ndarray as nd\n",
    "from mxnet import autograd as ag\n",
    "from mxnet.gluon import nn\n",
    "\n",
    "import numpy as np\n",
    "import pandas as pd"
   ]
  },
  {
   "cell_type": "code",
   "execution_count": 2,
   "metadata": {
    "collapsed": true
   },
   "outputs": [],
   "source": [
    "project_path = '/home/carsmart/users/xiaoming/Distracted_Driver_Detection/'\n",
    "features_path = project_path + 'features/'\n",
    "val_path_list = project_path + 'train_lst/train_val.lst'\n",
    "path_list = project_path + 'train_lst/train_train.lst'\n",
    "ctx = mx.gpu(0)\n",
    "model_save_path = project_path + 'model/'"
   ]
  },
  {
   "cell_type": "code",
   "execution_count": 3,
   "metadata": {
    "collapsed": true
   },
   "outputs": [],
   "source": [
    "softmax_cross_entropy = gluon.loss.SoftmaxCrossEntropyLoss()\n",
    "\n",
    "def accuracy(output, labels):\n",
    "    return nd.mean(nd.argmax(output, axis = 1) == labels).asscalar()\n",
    "\n",
    "def evaluate(net, data_iter):\n",
    "    loss, acc, n = 0., 0., 0.\n",
    "    steps = len(data_iter)\n",
    "    for data, label in data_iter:\n",
    "        data, label = data.as_in_context(ctx), label.as_in_context(ctx)\n",
    "        output = net(data)\n",
    "        acc += accuracy(output, label)\n",
    "        loss += nd.mean(softmax_cross_entropy(output, label)).asscalar()\n",
    "    return loss / steps, acc / steps"
   ]
  },
  {
   "cell_type": "markdown",
   "metadata": {},
   "source": [
    "## load features"
   ]
  },
  {
   "cell_type": "code",
   "execution_count": 4,
   "metadata": {
    "collapsed": true
   },
   "outputs": [],
   "source": [
    "def load_features(model_name, features_path, batch_size = 64):\n",
    "    train_features = nd.load(features_path + 'features_train_%s.nd' % model_name)[0]\n",
    "    val_features = nd.load(features_path + 'features_val_%s.nd' % model_name)[0]\n",
    "    \n",
    "    train_labels = nd.array(pd.read_table(path_list, header = None)[1].as_matrix())\n",
    "    val_labels = nd.array(pd.read_table(val_path_list, header = None)[1].as_matrix())\n",
    "    \n",
    "    dataset_train = gluon.data.ArrayDataset(train_features, train_labels)\n",
    "    dataset_val = gluon.data.ArrayDataset(val_features, val_labels)\n",
    "    \n",
    "    data_iter_train = gluon.data.DataLoader(dataset_train, batch_size)\n",
    "    data_iter_val = gluon.data.DataLoader(dataset_val, batch_size)\n",
    "    \n",
    "    return data_iter_train, data_iter_val"
   ]
  },
  {
   "cell_type": "markdown",
   "metadata": {},
   "source": [
    "## model define"
   ]
  },
  {
   "cell_type": "code",
   "execution_count": 5,
   "metadata": {
    "collapsed": true
   },
   "outputs": [],
   "source": [
    "def get_net():\n",
    "    net = nn.HybridSequential()\n",
    "    with net.name_scope():\n",
    "        net.add(\n",
    "            nn.Dense(256, activation = 'relu'), \n",
    "            nn.Dropout(0.5), \n",
    "            nn.Dense(10)\n",
    "        )\n",
    "    net.hybridize()\n",
    "    net.initialize(ctx = ctx)\n",
    "    return net"
   ]
  },
  {
   "cell_type": "markdown",
   "metadata": {},
   "source": [
    "## train define"
   ]
  },
  {
   "cell_type": "code",
   "execution_count": 6,
   "metadata": {
    "collapsed": true
   },
   "outputs": [],
   "source": [
    "def train(model_name):\n",
    "    epochs = 50\n",
    "    batch_size = 64\n",
    "    \n",
    "    data_iter_train, data_iter_val = load_features(model_name, features_path, batch_size)\n",
    "    net = get_net()\n",
    "    \n",
    "    trainer = gluon.Trainer(net.collect_params(), 'adam', \n",
    "                            {'learning_rate': 1e-4, 'wd': 1e-5})\n",
    "    \n",
    "    for epoch in range(epochs):\n",
    "        train_loss = 0.\n",
    "        train_acc = 0.\n",
    "        steps = len(data_iter_train)\n",
    "        for data, label in data_iter_train:\n",
    "            data, label = data.as_in_context(ctx), label.as_in_context(ctx)\n",
    "            \n",
    "            with ag.record():\n",
    "                output = net(data)\n",
    "                loss = softmax_cross_entropy(output, label)\n",
    "            loss.backward()\n",
    "            trainer.step(batch_size)\n",
    "            \n",
    "            train_loss += nd.mean(loss).asscalar()\n",
    "            train_acc += accuracy(output, label)\n",
    "            \n",
    "        val_loss, val_acc = evaluate(net, data_iter_val)\n",
    "    \n",
    "    print('Epochs %d. loss: %.4f, acc: %.2f%%, val_loss %.4f, val_acc %.2f%% Model: %s' % \n",
    "          (epochs, train_loss / steps, train_acc / steps * 100, val_loss, val_acc * 100, model_name))\n",
    "    \n",
    "    return val_loss"
   ]
  },
  {
   "cell_type": "markdown",
   "metadata": {},
   "source": [
    "## train"
   ]
  },
  {
   "cell_type": "code",
   "execution_count": 7,
   "metadata": {
    "scrolled": true
   },
   "outputs": [
    {
     "name": "stdout",
     "output_type": "stream",
     "text": [
      "Epochs 50. loss: 0.0064, acc: 99.90%, val_loss 0.0340, val_acc 99.14% Model: alexnet\n",
      "Epochs 50. loss: 0.0686, acc: 98.21%, val_loss 0.0659, val_acc 98.15% Model: densenet121\n",
      "Epochs 50. loss: 0.0275, acc: 99.43%, val_loss 0.0364, val_acc 99.05% Model: densenet161\n",
      "Epochs 50. loss: 0.0251, acc: 99.54%, val_loss 0.0377, val_acc 99.10% Model: densenet169\n",
      "Epochs 50. loss: 0.0234, acc: 99.54%, val_loss 0.0354, val_acc 98.88% Model: densenet201\n",
      "Epochs 50. loss: 0.0356, acc: 99.20%, val_loss 0.0593, val_acc 97.93% Model: inceptionv3\n",
      "Epochs 50. loss: 0.0766, acc: 97.99%, val_loss 0.0857, val_acc 97.58% Model: resnet101_v1\n",
      "Epochs 50. loss: 0.0820, acc: 97.91%, val_loss 0.0759, val_acc 98.09% Model: resnet152_v1\n",
      "Epochs 50. loss: 0.0989, acc: 97.36%, val_loss 0.0896, val_acc 97.91% Model: resnet18_v1\n",
      "Epochs 50. loss: 0.1086, acc: 97.20%, val_loss 0.0993, val_acc 97.25% Model: resnet18_v2\n",
      "Epochs 50. loss: 0.1020, acc: 97.29%, val_loss 0.0951, val_acc 97.29% Model: resnet34_v1\n",
      "Epochs 50. loss: 0.1109, acc: 97.01%, val_loss 0.1000, val_acc 97.32% Model: resnet34_v2\n",
      "Epochs 50. loss: 0.0725, acc: 98.18%, val_loss 0.0795, val_acc 97.78% Model: resnet50_v1\n",
      "Epochs 50. loss: 0.0957, acc: 97.53%, val_loss 0.0878, val_acc 97.62% Model: resnet50_v2\n",
      "Epochs 50. loss: 0.0357, acc: 99.13%, val_loss 0.0345, val_acc 99.01% Model: squeezenet1.0\n",
      "Epochs 50. loss: 0.0351, acc: 99.15%, val_loss 0.0369, val_acc 98.94% Model: squeezenet1.1\n",
      "Epochs 50. loss: 0.0080, acc: 99.89%, val_loss 0.0297, val_acc 99.14% Model: vgg11\n",
      "Epochs 50. loss: 0.0175, acc: 99.73%, val_loss 0.0440, val_acc 98.77% Model: vgg11_bn\n",
      "Epochs 50. loss: 0.0092, acc: 99.87%, val_loss 0.0376, val_acc 98.94% Model: vgg13\n",
      "Epochs 50. loss: 0.0170, acc: 99.76%, val_loss 0.0398, val_acc 98.86% Model: vgg13_bn\n",
      "Epochs 50. loss: 0.0083, acc: 99.89%, val_loss 0.0408, val_acc 98.77% Model: vgg16\n",
      "Epochs 50. loss: 0.0229, acc: 99.54%, val_loss 0.0482, val_acc 98.64% Model: vgg16_bn\n",
      "Epochs 50. loss: 0.0108, acc: 99.87%, val_loss 0.0389, val_acc 98.79% Model: vgg19\n",
      "Epochs 50. loss: 0.0215, acc: 99.59%, val_loss 0.0494, val_acc 98.68% Model: vgg19_bn\n"
     ]
    }
   ],
   "source": [
    "from mxnet.gluon.model_zoo.model_store import _model_sha1\n",
    "\n",
    "losses = []\n",
    "for model_name in sorted(_model_sha1.keys()):\n",
    "    val_loss = train(model_name)\n",
    "    losses.append((model_name, val_loss))"
   ]
  },
  {
   "cell_type": "markdown",
   "metadata": {},
   "source": [
    "## sort val_loss"
   ]
  },
  {
   "cell_type": "code",
   "execution_count": 8,
   "metadata": {},
   "outputs": [
    {
     "data": {
      "text/html": [
       "<div>\n",
       "<style>\n",
       "    .dataframe thead tr:only-child th {\n",
       "        text-align: right;\n",
       "    }\n",
       "\n",
       "    .dataframe thead th {\n",
       "        text-align: left;\n",
       "    }\n",
       "\n",
       "    .dataframe tbody tr th {\n",
       "        vertical-align: top;\n",
       "    }\n",
       "</style>\n",
       "<table border=\"1\" class=\"dataframe\">\n",
       "  <thead>\n",
       "    <tr style=\"text-align: right;\">\n",
       "      <th></th>\n",
       "      <th>model</th>\n",
       "      <th>val_loss</th>\n",
       "    </tr>\n",
       "  </thead>\n",
       "  <tbody>\n",
       "    <tr>\n",
       "      <th>16</th>\n",
       "      <td>vgg11</td>\n",
       "      <td>0.029661</td>\n",
       "    </tr>\n",
       "    <tr>\n",
       "      <th>0</th>\n",
       "      <td>alexnet</td>\n",
       "      <td>0.033955</td>\n",
       "    </tr>\n",
       "    <tr>\n",
       "      <th>14</th>\n",
       "      <td>squeezenet1.0</td>\n",
       "      <td>0.034491</td>\n",
       "    </tr>\n",
       "    <tr>\n",
       "      <th>4</th>\n",
       "      <td>densenet201</td>\n",
       "      <td>0.035379</td>\n",
       "    </tr>\n",
       "    <tr>\n",
       "      <th>2</th>\n",
       "      <td>densenet161</td>\n",
       "      <td>0.036374</td>\n",
       "    </tr>\n",
       "    <tr>\n",
       "      <th>15</th>\n",
       "      <td>squeezenet1.1</td>\n",
       "      <td>0.036922</td>\n",
       "    </tr>\n",
       "    <tr>\n",
       "      <th>18</th>\n",
       "      <td>vgg13</td>\n",
       "      <td>0.037571</td>\n",
       "    </tr>\n",
       "    <tr>\n",
       "      <th>3</th>\n",
       "      <td>densenet169</td>\n",
       "      <td>0.037724</td>\n",
       "    </tr>\n",
       "    <tr>\n",
       "      <th>22</th>\n",
       "      <td>vgg19</td>\n",
       "      <td>0.038942</td>\n",
       "    </tr>\n",
       "    <tr>\n",
       "      <th>19</th>\n",
       "      <td>vgg13_bn</td>\n",
       "      <td>0.039767</td>\n",
       "    </tr>\n",
       "  </tbody>\n",
       "</table>\n",
       "</div>"
      ],
      "text/plain": [
       "            model  val_loss\n",
       "16          vgg11  0.029661\n",
       "0         alexnet  0.033955\n",
       "14  squeezenet1.0  0.034491\n",
       "4     densenet201  0.035379\n",
       "2     densenet161  0.036374\n",
       "15  squeezenet1.1  0.036922\n",
       "18          vgg13  0.037571\n",
       "3     densenet169  0.037724\n",
       "22          vgg19  0.038942\n",
       "19       vgg13_bn  0.039767"
      ]
     },
     "execution_count": 8,
     "metadata": {},
     "output_type": "execute_result"
    }
   ],
   "source": [
    "val_loss = pd.DataFrame(losses, columns = ['model', 'val_loss'])\n",
    "val_loss = val_loss.sort_values('val_loss')\n",
    "val_loss.head(10)"
   ]
  },
  {
   "cell_type": "markdown",
   "metadata": {},
   "source": [
    "## 融合较好的几个模型"
   ]
  },
  {
   "cell_type": "code",
   "execution_count": 9,
   "metadata": {
    "collapsed": true
   },
   "outputs": [],
   "source": [
    "def load_models_features(model_names, batch_size = 64):\n",
    "    train_features = [nd.load(features_path + 'features_train_%s.nd' % model_name)[0] for model_name in model_names]\n",
    "    val_features = [nd.load(features_path + 'features_val_%s.nd' % model_name)[0] for model_name in model_names]\n",
    "    train_features = nd.concat(*train_features, dim = 1)\n",
    "    val_features = nd.concat(*val_features, dim = 1)\n",
    "    \n",
    "    train_labels = nd.array(pd.read_table(path_list, header = None)[1].as_matrix())\n",
    "    val_labels = nd.array(pd.read_table(val_path_list, header = None)[1].as_matrix())\n",
    "    \n",
    "    dataset_train = gluon.data.ArrayDataset(train_features, train_labels)\n",
    "    dataset_val = gluon.data.ArrayDataset(val_features, val_labels)\n",
    "    \n",
    "    data_iter_train = gluon.data.DataLoader(dataset_train, batch_size, shuffle = True)\n",
    "    data_iter_val = gluon.data.DataLoader(dataset_val, batch_size)\n",
    "    \n",
    "    return data_iter_train, data_iter_val"
   ]
  },
  {
   "cell_type": "markdown",
   "metadata": {},
   "source": [
    "## Fusion model train"
   ]
  },
  {
   "cell_type": "code",
   "execution_count": 10,
   "metadata": {
    "scrolled": true
   },
   "outputs": [
    {
     "name": "stdout",
     "output_type": "stream",
     "text": [
      "Epoch 1. loss: 1.7639, acc: 42.17%, val_loss 0.8277, val_acc 86.22%\n",
      "Epoch 2. loss: 0.7690, acc: 77.50%, val_loss 0.3753, val_acc 93.29%\n",
      "Epoch 3. loss: 0.4504, acc: 88.31%, val_loss 0.2231, val_acc 95.88%\n",
      "Epoch 4. loss: 0.3177, acc: 91.71%, val_loss 0.1689, val_acc 96.94%\n",
      "Epoch 5. loss: 0.2392, acc: 94.19%, val_loss 0.1224, val_acc 97.78%\n",
      "Epoch 6. loss: 0.1945, acc: 95.33%, val_loss 0.1021, val_acc 98.11%\n",
      "Epoch 7. loss: 0.1634, acc: 96.12%, val_loss 0.0857, val_acc 98.37%\n",
      "Epoch 8. loss: 0.1404, acc: 96.66%, val_loss 0.0757, val_acc 98.37%\n",
      "Epoch 9. loss: 0.1233, acc: 96.92%, val_loss 0.0661, val_acc 98.55%\n",
      "Epoch 10. loss: 0.1109, acc: 97.41%, val_loss 0.0595, val_acc 98.77%\n",
      "Epoch 11. loss: 0.0976, acc: 97.83%, val_loss 0.0556, val_acc 98.86%\n",
      "Epoch 12. loss: 0.0893, acc: 98.09%, val_loss 0.0503, val_acc 98.92%\n",
      "Epoch 13. loss: 0.0827, acc: 98.08%, val_loss 0.0468, val_acc 98.99%\n",
      "Epoch 14. loss: 0.0751, acc: 98.37%, val_loss 0.0449, val_acc 99.03%\n",
      "Epoch 15. loss: 0.0691, acc: 98.52%, val_loss 0.0411, val_acc 99.10%\n",
      "Epoch 16. loss: 0.0667, acc: 98.55%, val_loss 0.0398, val_acc 99.12%\n",
      "Epoch 17. loss: 0.0574, acc: 98.83%, val_loss 0.0370, val_acc 99.16%\n",
      "Epoch 18. loss: 0.0581, acc: 98.72%, val_loss 0.0357, val_acc 99.21%\n",
      "Epoch 19. loss: 0.0533, acc: 98.91%, val_loss 0.0344, val_acc 99.27%\n",
      "Epoch 20. loss: 0.0511, acc: 98.93%, val_loss 0.0353, val_acc 99.12%\n",
      "Epoch 21. loss: 0.0479, acc: 98.97%, val_loss 0.0326, val_acc 99.32%\n",
      "Epoch 22. loss: 0.0472, acc: 98.93%, val_loss 0.0327, val_acc 99.27%\n",
      "Epoch 23. loss: 0.0451, acc: 99.01%, val_loss 0.0309, val_acc 99.36%\n",
      "Epoch 24. loss: 0.0427, acc: 99.04%, val_loss 0.0303, val_acc 99.34%\n",
      "Epoch 25. loss: 0.0400, acc: 99.19%, val_loss 0.0295, val_acc 99.34%\n",
      "Epoch 26. loss: 0.0401, acc: 99.15%, val_loss 0.0287, val_acc 99.36%\n",
      "Epoch 27. loss: 0.0376, acc: 99.30%, val_loss 0.0285, val_acc 99.36%\n",
      "Epoch 28. loss: 0.0382, acc: 99.23%, val_loss 0.0278, val_acc 99.38%\n",
      "Epoch 29. loss: 0.0370, acc: 99.26%, val_loss 0.0273, val_acc 99.36%\n",
      "Epoch 30. loss: 0.0345, acc: 99.38%, val_loss 0.0269, val_acc 99.38%\n",
      "Epoch 31. loss: 0.0329, acc: 99.41%, val_loss 0.0266, val_acc 99.36%\n",
      "Epoch 32. loss: 0.0339, acc: 99.34%, val_loss 0.0269, val_acc 99.36%\n",
      "Epoch 33. loss: 0.0350, acc: 99.34%, val_loss 0.0262, val_acc 99.34%\n",
      "Epoch 34. loss: 0.0318, acc: 99.46%, val_loss 0.0266, val_acc 99.36%\n",
      "Epoch 35. loss: 0.0311, acc: 99.41%, val_loss 0.0258, val_acc 99.38%\n",
      "Epoch 36. loss: 0.0293, acc: 99.46%, val_loss 0.0254, val_acc 99.41%\n",
      "Epoch 37. loss: 0.0293, acc: 99.47%, val_loss 0.0253, val_acc 99.34%\n",
      "Epoch 38. loss: 0.0303, acc: 99.37%, val_loss 0.0249, val_acc 99.43%\n",
      "Epoch 39. loss: 0.0298, acc: 99.44%, val_loss 0.0249, val_acc 99.41%\n",
      "Epoch 40. loss: 0.0290, acc: 99.43%, val_loss 0.0247, val_acc 99.38%\n",
      "Epoch 41. loss: 0.0284, acc: 99.52%, val_loss 0.0241, val_acc 99.45%\n",
      "Epoch 42. loss: 0.0287, acc: 99.45%, val_loss 0.0245, val_acc 99.41%\n",
      "Epoch 43. loss: 0.0274, acc: 99.50%, val_loss 0.0243, val_acc 99.41%\n",
      "Epoch 44. loss: 0.0295, acc: 99.41%, val_loss 0.0240, val_acc 99.47%\n",
      "Epoch 45. loss: 0.0264, acc: 99.50%, val_loss 0.0239, val_acc 99.45%\n",
      "Epoch 46. loss: 0.0258, acc: 99.56%, val_loss 0.0238, val_acc 99.47%\n",
      "Epoch 47. loss: 0.0266, acc: 99.46%, val_loss 0.0240, val_acc 99.38%\n",
      "Epoch 48. loss: 0.0268, acc: 99.41%, val_loss 0.0236, val_acc 99.47%\n",
      "Epoch 49. loss: 0.0257, acc: 99.48%, val_loss 0.0238, val_acc 99.45%\n",
      "Epoch 50. loss: 0.0258, acc: 99.57%, val_loss 0.0237, val_acc 99.43%\n",
      "Epoch 51. loss: 0.0253, acc: 99.62%, val_loss 0.0235, val_acc 99.43%\n",
      "Epoch 52. loss: 0.0259, acc: 99.60%, val_loss 0.0234, val_acc 99.45%\n",
      "Epoch 53. loss: 0.0270, acc: 99.44%, val_loss 0.0233, val_acc 99.43%\n",
      "Epoch 54. loss: 0.0263, acc: 99.51%, val_loss 0.0235, val_acc 99.45%\n",
      "Epoch 55. loss: 0.0264, acc: 99.48%, val_loss 0.0233, val_acc 99.45%\n",
      "Epoch 56. loss: 0.0253, acc: 99.56%, val_loss 0.0232, val_acc 99.45%\n",
      "Epoch 57. loss: 0.0252, acc: 99.52%, val_loss 0.0231, val_acc 99.47%\n",
      "Epoch 58. loss: 0.0250, acc: 99.53%, val_loss 0.0232, val_acc 99.47%\n",
      "Epoch 59. loss: 0.0256, acc: 99.52%, val_loss 0.0233, val_acc 99.45%\n",
      "Epoch 60. loss: 0.0243, acc: 99.62%, val_loss 0.0232, val_acc 99.49%\n",
      "Epoch 61. loss: 0.0251, acc: 99.52%, val_loss 0.0232, val_acc 99.47%\n",
      "Epoch 62. loss: 0.0240, acc: 99.57%, val_loss 0.0230, val_acc 99.47%\n",
      "Epoch 63. loss: 0.0230, acc: 99.61%, val_loss 0.0230, val_acc 99.45%\n",
      "Epoch 64. loss: 0.0237, acc: 99.59%, val_loss 0.0230, val_acc 99.47%\n",
      "Epoch 65. loss: 0.0240, acc: 99.53%, val_loss 0.0229, val_acc 99.47%\n",
      "Epoch 66. loss: 0.0255, acc: 99.56%, val_loss 0.0229, val_acc 99.47%\n",
      "Epoch 67. loss: 0.0261, acc: 99.52%, val_loss 0.0229, val_acc 99.47%\n",
      "Epoch 68. loss: 0.0247, acc: 99.57%, val_loss 0.0230, val_acc 99.47%\n",
      "Epoch 69. loss: 0.0225, acc: 99.62%, val_loss 0.0229, val_acc 99.45%\n",
      "Epoch 70. loss: 0.0248, acc: 99.56%, val_loss 0.0228, val_acc 99.45%\n",
      "Epoch 71. loss: 0.0246, acc: 99.59%, val_loss 0.0229, val_acc 99.49%\n",
      "Epoch 72. loss: 0.0235, acc: 99.57%, val_loss 0.0229, val_acc 99.47%\n",
      "Epoch 73. loss: 0.0241, acc: 99.59%, val_loss 0.0228, val_acc 99.49%\n",
      "Epoch 74. loss: 0.0251, acc: 99.55%, val_loss 0.0228, val_acc 99.47%\n",
      "Epoch 75. loss: 0.0261, acc: 99.49%, val_loss 0.0227, val_acc 99.45%\n",
      "Epoch 76. loss: 0.0237, acc: 99.64%, val_loss 0.0228, val_acc 99.47%\n",
      "Epoch 77. loss: 0.0244, acc: 99.59%, val_loss 0.0228, val_acc 99.45%\n",
      "Epoch 78. loss: 0.0251, acc: 99.52%, val_loss 0.0228, val_acc 99.47%\n",
      "Epoch 79. loss: 0.0238, acc: 99.61%, val_loss 0.0227, val_acc 99.45%\n",
      "Epoch 80. loss: 0.0227, acc: 99.64%, val_loss 0.0227, val_acc 99.45%\n",
      "Epoch 81. loss: 0.0250, acc: 99.56%, val_loss 0.0227, val_acc 99.45%\n",
      "Epoch 82. loss: 0.0252, acc: 99.53%, val_loss 0.0227, val_acc 99.45%\n",
      "Epoch 83. loss: 0.0242, acc: 99.59%, val_loss 0.0227, val_acc 99.45%\n",
      "Epoch 84. loss: 0.0252, acc: 99.53%, val_loss 0.0228, val_acc 99.47%\n",
      "Epoch 85. loss: 0.0240, acc: 99.56%, val_loss 0.0228, val_acc 99.45%\n",
      "Epoch 86. loss: 0.0246, acc: 99.57%, val_loss 0.0227, val_acc 99.47%\n",
      "Epoch 87. loss: 0.0241, acc: 99.55%, val_loss 0.0228, val_acc 99.47%\n",
      "Epoch 88. loss: 0.0239, acc: 99.63%, val_loss 0.0227, val_acc 99.47%\n",
      "Epoch 89. loss: 0.0249, acc: 99.59%, val_loss 0.0227, val_acc 99.47%\n",
      "Epoch 90. loss: 0.0245, acc: 99.58%, val_loss 0.0227, val_acc 99.47%\n",
      "Epoch 91. loss: 0.0239, acc: 99.63%, val_loss 0.0227, val_acc 99.47%\n",
      "Epoch 92. loss: 0.0243, acc: 99.54%, val_loss 0.0227, val_acc 99.47%\n",
      "Epoch 93. loss: 0.0237, acc: 99.62%, val_loss 0.0227, val_acc 99.47%\n",
      "Epoch 94. loss: 0.0242, acc: 99.59%, val_loss 0.0227, val_acc 99.47%\n",
      "Epoch 95. loss: 0.0232, acc: 99.58%, val_loss 0.0227, val_acc 99.47%\n",
      "Epoch 96. loss: 0.0255, acc: 99.48%, val_loss 0.0227, val_acc 99.47%\n",
      "Epoch 97. loss: 0.0241, acc: 99.60%, val_loss 0.0227, val_acc 99.47%\n",
      "Epoch 98. loss: 0.0247, acc: 99.54%, val_loss 0.0227, val_acc 99.47%\n",
      "Epoch 99. loss: 0.0238, acc: 99.58%, val_loss 0.0227, val_acc 99.47%\n",
      "Epoch 100. loss: 0.0239, acc: 99.60%, val_loss 0.0227, val_acc 99.47%\n"
     ]
    }
   ],
   "source": [
    "net = get_net()\n",
    "epochs = 100\n",
    "batch_size = 64\n",
    "lr_sch = mx.lr_scheduler.FactorScheduler(step = 400, factor = 0.9)\n",
    "trainer = gluon.Trainer(net.collect_params(), 'adam', \n",
    "                        {'learning_rate': 1e-4, 'wd': 1e-5, 'lr_scheduler': lr_sch})\n",
    "\n",
    "model_names = ['vgg11', 'densenet161', 'squeezenet1.0']\n",
    "data_iter_train, data_iter_val = load_models_features(model_names, batch_size = batch_size)\n",
    "\n",
    "for epoch in range(epochs):\n",
    "    train_loss = 0.\n",
    "    train_acc = 0.\n",
    "    steps = len(data_iter_train)\n",
    "    for data, label in data_iter_train:\n",
    "        data, label = data.as_in_context(ctx), label.as_in_context(ctx)\n",
    "        \n",
    "        with ag.record():\n",
    "            output = net(data)\n",
    "            loss = softmax_cross_entropy(output, label)\n",
    "        loss.backward()\n",
    "        trainer.step(batch_size)\n",
    "        \n",
    "        train_loss += nd.mean(loss).asscalar()\n",
    "        train_acc += accuracy(output, label)\n",
    "    \n",
    "    val_loss, val_acc = evaluate(net, data_iter_val)\n",
    "    \n",
    "    print('Epoch %d. loss: %.4f, acc: %.2f%%, val_loss %.4f, val_acc %.2f%%' % \n",
    "          (epoch + 1, train_loss / steps, train_acc / steps * 100, val_loss, val_acc * 100))"
   ]
  },
  {
   "cell_type": "code",
   "execution_count": 11,
   "metadata": {
    "collapsed": true
   },
   "outputs": [],
   "source": [
    "net.save_params(model_save_path + '9947.params')"
   ]
  },
  {
   "cell_type": "code",
   "execution_count": null,
   "metadata": {
    "collapsed": true
   },
   "outputs": [],
   "source": []
  }
 ],
 "metadata": {
  "kernelspec": {
   "display_name": "Python 3",
   "language": "python",
   "name": "python3"
  },
  "language_info": {
   "codemirror_mode": {
    "name": "ipython",
    "version": 3
   },
   "file_extension": ".py",
   "mimetype": "text/x-python",
   "name": "python",
   "nbconvert_exporter": "python",
   "pygments_lexer": "ipython3",
   "version": "3.5.2"
  }
 },
 "nbformat": 4,
 "nbformat_minor": 2
}
